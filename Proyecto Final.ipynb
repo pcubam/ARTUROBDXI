{
 "cells": [
  {
   "cell_type": "markdown",
   "metadata": {},
   "source": [
    "# PROGRAMA DE ESPECILIZACION EN BIG DATA & ANALYTICS"
   ]
  },
  {
   "cell_type": "markdown",
   "metadata": {},
   "source": [
    "# BIG DATA APLICADO A LA COMPRA DE DEUDA "
   ]
  },
  {
   "cell_type": "markdown",
   "metadata": {},
   "source": [
    "* Integrantes:\n",
    "    * Johan Mendivil\n",
    "    * Katia Jimenez\n",
    "    * Pedro Cuba"
   ]
  },
  {
   "cell_type": "markdown",
   "metadata": {},
   "source": [
    "# CASO DE USO DEL NEGOCIO"
   ]
  },
  {
   "cell_type": "markdown",
   "metadata": {},
   "source": [
    "Toda persona que participa del sistema financiero tiene un historial crediticio que refleja su comportamiento y es el principal factor en la toma de decisión de las entidades financiera para el otorgamiento de créditos. \n",
    "\n",
    "Mantener un buen historial crediticio, necesita de actitudes responsables:\n",
    "* Ser puntual: Con el pago de sus obligaciones.\n",
    "* Programar el pago de las cuotas del préstamo o tarjeta de crédito.\n",
    "* Negociar una reprogramación o refinanciamiento de la deuda para evitar problemas de impago.\n",
    "* Acceder al reporte individual de la central de riesgos de la SBS, una vez al año.\n",
    "* No exceder el 40% de nuestros de los ingresos mensuales en cubrir obligaciones financieras."
   ]
  },
  {
   "cell_type": "markdown",
   "metadata": {},
   "source": [
    "Justamente sobre este último punto es el que nos valdremos para el caso de uso del proyecto. El objetivo del mismo es encontrar la cartera de clientes adecuada para la compra de deuda con tarjetas de créditos.\n",
    "\n",
    "Como se sabe, la compra de deuda beneficia al cliente en cuanto se le ofrece una tasa más baja que la de un préstamo. **Ahorra al no pagar distintas comisiones por el pago de varias tarjetas y/o préstamos y puede pagar su deuda en más de 1 año.** Por otro lado, **la entidad financiera se beneficia incrementando su participación en el mercado de saldos y generando relaciones con nuevos clientes que, a largo plazo, inyectarán liquidez y adquirirán nuevos financiamientos** (Más conocido como lifetime valúe)."
   ]
  },
  {
   "attachments": {},
   "cell_type": "markdown",
   "metadata": {},
   "source": [
    "![perucuadro1.png](img/perucuadro1.png)"
   ]
  },
  {
   "cell_type": "markdown",
   "metadata": {},
   "source": [
    "## ¿Por qué Big Data?"
   ]
  },
  {
   "cell_type": "markdown",
   "metadata": {},
   "source": [
    "Big Data son activos de información de gran volumen, alta velocidad y / o gran variedad que demandan formas rentables e innovadoras de procesamiento de la información que permiten un mejor conocimiento, toma de decisiones y automatización de procesos. Por lo tanto, es un conjunto de conocimientos, métodos y tecnologías orientados a facilitar la adquisición, gestión y uso de los datos generados en la actualidad. Entre las principales características."
   ]
  },
  {
   "cell_type": "markdown",
   "metadata": {},
   "source": [
    "* **Volumen** : Volumen de los datos disponibles para el análisis, los cuales exceden la capacidad de los RDBMS tradicionales y que son gestionados por diversos sistemas (correo, Facebook, otros).\n",
    "    * *Se ha de valorar el tamaño en relación a los recursos disponibles, las preguntas a las que buscamos dar respuesta y el tipo de datos analizados.*\n",
    "* **Velocidad**: \n",
    "    * Incremento de la velocidad a la que se genera (y se distribuye) los datos.\n",
    "    * Datos en “streaming”: Nuevas fuentes que se generan y distribuyen en tiempo real. Ejemplo: datos generados por sensores, servidores web o las redes sociales.\n",
    "    * El aumento de la velocidad de generación es una de las razones del incremento del volumen de datos, pues los pequeños mensajes o eventos generados en cada instante, por dispositivos y aplicaciones como los anteriores, dan lugar a enormes conjuntos de datos.\n",
    "    * La velocidad también hace referencia a la necesidad para extraer conocimiento de los datos en el momento oportuno. \n",
    "        * *Datos de carácter financiero pueden reducir su valor en cuestión de segundos.*\n",
    "* **Variedad**:\n",
    "    * La variedad se refiere al importante aumento en la heterogeneidad en las fuentes de datos debido a diversos factores como:\n",
    "        * *Incremento en el número de fuentes disponibles.*\n",
    "        * *Posibilidad de procesar fuentes con distinto nivel de estructura*\n",
    "        * *Diversidad de formatos en que se distribuyen las fuentes.*\n",
    "    * En el nuevo escenario actual, a las fuentes de formatos altamente estructurados se unen otras, como las semiestructuradas (ejemplo. XML, JSON) o las que carecen de estructura alguna (ejemplo. texto, imagen o video).\n",
    "* **Veracidad**:\n",
    "    * Aumento de la incertidumbre respecto a la veracidad o calidad de los datos Disponibles:\n",
    "        * *Incertidumbre de datos → incertidumbre del conocimiento extraído.*\n",
    "    * Las fuentes de datos, incluso en el mismo dominio, difieren ampliamente en su calidad en lo que respecta a la cobertura, precisión y oportunidad de los datos.\n",
    "* **Valor**: Además de las características anteriores, es necesario tener en cuenta el valor, este se define como una medida de la utilidad de los datos, para la toma de decisiones en la organización, poniendo de manifiesto la dificultad para conocer y evaluar dicha utilidad a priori.\n"
   ]
  },
  {
   "cell_type": "markdown",
   "metadata": {},
   "source": [
    "La información de crédito de las personas naturales en el Perú es una fuente de gran volumen, y en crecimiento a gran velocidad debido a la estrategia activa de parte de los bancos para vincular a las personas a su sistema de crédito. Asimismo, la variedad de esta información abre una ventana para una nueva versión de la gestión de crédito en el Perú. "
   ]
  },
  {
   "attachments": {},
   "cell_type": "markdown",
   "metadata": {},
   "source": [
    "![Bigdata5Vs.jpg](img/Bigdata5Vs.jpg)"
   ]
  },
  {
   "attachments": {},
   "cell_type": "markdown",
   "metadata": {},
   "source": [
    "## Clasificación de las fuentes de datos\n",
    "Para este proyecto utilizaremos 2 fuentes de información: 1) RCC que por su formato CSV es una fuente de información semi-estructurada y 2) Tweets de Twitter, fuente streaming, relacionados a compras con tarjetas de crédito.\n",
    "![fuentes.jpg](img/fuentes.jpg)"
   ]
  },
  {
   "attachments": {},
   "cell_type": "markdown",
   "metadata": {},
   "source": [
    "## Sizing de la generacion de data\n",
    "![Sizing.jpg](img/Sizing.jpg)"
   ]
  },
  {
   "cell_type": "markdown",
   "metadata": {},
   "source": [
    "## Arquitectura conceptual de la solución"
   ]
  },
  {
   "attachments": {},
   "cell_type": "markdown",
   "metadata": {},
   "source": [
    "![ArquitecturaConceptual.jpg](img/ArquitecturaConceptual.jpg)"
   ]
  },
  {
   "attachments": {},
   "cell_type": "markdown",
   "metadata": {},
   "source": [
    "## Arquitectura tecnológica de la solución\n",
    "Para la ingesta de datos usaremos Hadoop, para la fuente de RCC y Kafka, para la fuente de data streaming Twitter. Luego, utilizaremos Hadoop Distributed File System (HDFS) para el almacenamiento.\n",
    "Posteriormente, para el análisis, emplearemos Hive, Spark y Hbase. Finalmente, para la visualización de la data, emplearemos Power BI de Microsoft.\n",
    "![arquitecturatecnologica.jpg](img/arquitecturatecnologica.jpg)"
   ]
  },
  {
   "attachments": {},
   "cell_type": "markdown",
   "metadata": {},
   "source": [
    "## Perfiles de Big Data necesarios\n",
    "Necesitaremos 3 perfiles:"
   ]
  },
  {
   "cell_type": "markdown",
   "metadata": {},
   "source": [
    "![engineer.png](img/engineer.png)\n",
    "- Desarrolla, prueba y mantiene la arquitectura de datos necesaria para este proyecto. En su rol podrá descrubir oportunidades para la ingesta de nueva data. Su rol será clave para la fase de Ingesta y Almacenamiento."
   ]
  },
  {
   "cell_type": "markdown",
   "metadata": {},
   "source": [
    "![Datascientist.png](img/Datascientist.png)\n",
    "- Limpia y organiza la información, pero sobre todo aplicará sus conocimientos programación y machine learning construir el modelo que abordaremos en el proyecto. Su rol será vital para identificar las fuentes de información a utilizar, transformarlas, analizarlas y presentar los resultados."
   ]
  },
  {
   "cell_type": "markdown",
   "metadata": {},
   "source": [
    "![BA.png](img/BA.png)\n",
    "- Analiza la información para detectar tendencias, patrones de consumo, alertas, entre otros. Si bien sus conocimientos científicos no son tan avanzados como el un data scientist (por ejemplo no hace uso de algoritmos), su propósito es el mismo: resolver el problema a partir de la data. Su rol será de apoyo al data scientist en el análisis y presentación de los resultados del análisis."
   ]
  },
  {
   "attachments": {},
   "cell_type": "markdown",
   "metadata": {},
   "source": [
    "## Presupuesto\n",
    "Trabajamos el ppto en base a 1 mes de trabajo dedicado:\n",
    "![pptocluster.jpg](img/pptocluster.jpg)"
   ]
  },
  {
   "cell_type": "markdown",
   "metadata": {},
   "source": [
    "## INGESTA DE BD HDFS EN DATALAKE DE GOOGLE"
   ]
  },
  {
   "attachments": {},
   "cell_type": "markdown",
   "metadata": {},
   "source": [
    "## Ingesta de fuentes al DataLake\n",
    "![Ingesta.jpg](img/Ingesta.jpg)"
   ]
  },
  {
   "attachments": {},
   "cell_type": "markdown",
   "metadata": {},
   "source": [
    "## Creacion de tablas en HIVE\n",
    "**Al menos 2 deben tener estructura compleja**"
   ]
  },
  {
   "cell_type": "markdown",
   "metadata": {},
   "source": [
    "### Tabla simple\n",
    "![Tablasimple.jpg](img/Tablasimple.jpg)"
   ]
  },
  {
   "cell_type": "markdown",
   "metadata": {},
   "source": [
    "### Tabla con particion dinamica\n",
    "![particiondinamica.jpg](img/particiondinamica.jpg)"
   ]
  },
  {
   "cell_type": "markdown",
   "metadata": {},
   "source": [
    "### Tabla con particion estatica\n",
    "![particionestatica.jpg](img/particionestatica.jpg)"
   ]
  },
  {
   "cell_type": "markdown",
   "metadata": {},
   "source": [
    "### Tabla bucketing\n",
    "![bucket.jpg](img/bucket.jpg)"
   ]
  },
  {
   "attachments": {},
   "cell_type": "markdown",
   "metadata": {},
   "source": [
    "## Transformaciones complejas con Apache Spark\n",
    "![transformacioncompletaunpivot.jpg](img/transformacioncompletaunpivot.jpg)"
   ]
  },
  {
   "cell_type": "markdown",
   "metadata": {},
   "source": [
    "## Tablas con Apache Hbase"
   ]
  },
  {
   "cell_type": "markdown",
   "metadata": {},
   "source": [
    "## Dashboard de BI"
   ]
  },
  {
   "attachments": {},
   "cell_type": "markdown",
   "metadata": {},
   "source": [
    "![dashboard.JPG](img/dashboard.JPG)"
   ]
  },
  {
   "attachments": {},
   "cell_type": "markdown",
   "metadata": {},
   "source": [
    "## Explicacion teorica del flujo en streaming con Apache Kafka\n",
    "![kafka.jpg](img/kafka.jpg)"
   ]
  },
  {
   "cell_type": "markdown",
   "metadata": {},
   "source": [
    "El propósito de Kafka es permitir el procesamiento de flujos de datos en tiempo real. En Kafka un stream processor toma un flujo continuo de datos de un topic de entrada, lo procesa y produce un flujo continuo de datos en un topic de salida. Para procesamientos más complejos, Kafka proporciona una API de streams totalmente integrada que permite realizar aplicaciones con procesos más complejos. \n",
    "\n",
    "Un sistema de archivos distribuidos como HDFS permite almacenar archivos estáticos para el procesamiento por lotes. En efecto sistemas como estos permiten almacenar y procesar data histórica. Al combinar almacenamiento y suscripciones de baja latencia, las aplicaciones de streaming pueden tratar los datos pasados y futuros de la misma manera. Es decir, que una sola aplicación puede procesar datos históricos ya almacenados, pero en lugar de finalizar cuando recibe el último dato, pueda seguir procesando los datos a medida que lleguen.\n",
    "\n",
    "Spark Streaming toma un flujo de datos continuo y lo convertierte en un flujo discreto,llamado DStream, formado por paquetes de datos. Internamente, almacena y procesa estos datos como una secuencia de RDDs (Resilient Distributed Data). Un RDD es una colección de datos particionada (distribuida) e inmutable. Es la unidad de información que el motor de procesamiento de Spark  tradicionalmente consume. "
   ]
  },
  {
   "cell_type": "markdown",
   "metadata": {},
   "source": [
    "## Modelo de ML utilizando SparkML"
   ]
  },
  {
   "cell_type": "markdown",
   "metadata": {},
   "source": [
    "Desarrollamos un modelo para predecir la linea de credito a ofrecer a clientes que sean saludables financieramente. Para ello, entrenamos el modelo utilizando solo aquellos clientes que se endeudan como maximo con el 40% de sus ingresos. Previamente, con una transformación simple, se calculó este ratio dividiendo la variable Linea_utilizada/ingresos. A continuacion, ejecutamos un modelo de regresion lineal colocando la variable Linea_disponible en funcion a las caracteristicas del cliente (Edad, Generacion, Estado Civil, Sexo, Región, Ingreso y Perfil)"
   ]
  },
  {
   "attachments": {},
   "cell_type": "markdown",
   "metadata": {},
   "source": [
    "![modeloteorico.JPG](img/modeloteorico.JPG)"
   ]
  },
  {
   "attachments": {},
   "cell_type": "markdown",
   "metadata": {},
   "source": [
    "![modeloml.jpg](img/modeloml.jpg)"
   ]
  },
  {
   "cell_type": "markdown",
   "metadata": {},
   "source": [
    "#### Como resultado, optuvimos los siguientes 20 primeros outputs"
   ]
  },
  {
   "attachments": {},
   "cell_type": "markdown",
   "metadata": {},
   "source": [
    "![output.jpg](img/output.jpg)"
   ]
  },
  {
   "cell_type": "markdown",
   "metadata": {},
   "source": [
    "# **GRACIAS**"
   ]
  }
 ],
 "metadata": {
  "kernelspec": {
   "display_name": "Python 3",
   "language": "python",
   "name": "python3"
  },
  "language_info": {
   "codemirror_mode": {
    "name": "ipython",
    "version": 3
   },
   "file_extension": ".py",
   "mimetype": "text/x-python",
   "name": "python",
   "nbconvert_exporter": "python",
   "pygments_lexer": "ipython3",
   "version": "3.7.4"
  }
 },
 "nbformat": 4,
 "nbformat_minor": 2
}
